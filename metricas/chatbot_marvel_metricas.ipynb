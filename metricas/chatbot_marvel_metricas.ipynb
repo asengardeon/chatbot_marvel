{
  "nbformat": 4,
  "nbformat_minor": 0,
  "metadata": {
    "colab": {
      "name": "ChatBot",
      "provenance": [],
      "collapsed_sections": []
    },
    "kernelspec": {
      "name": "python3",
      "display_name": "Python 3"
    },
    "language_info": {
      "name": "python"
    }
  },
  "cells": [
    {
      "cell_type": "code",
      "metadata": {
        "id": "ZkNPEqOMgT4k"
      },
      "source": [
        "from collections import Counter\n",
        "import matplotlib.pyplot as plt\n",
        "import numpy as np\n",
        "import pandas as pd\n",
        "import warnings\n",
        "warnings.filterwarnings('ignore')"
      ],
      "execution_count": 3,
      "outputs": []
    },
    {
      "cell_type": "code",
      "metadata": {
        "id": "iyHg6uoMyreI"
      },
      "source": [
        "# Ler CSV\n",
        "metricas = pd.read_csv('metricas.csv', sep = ',', decimal = '.')"
      ],
      "execution_count": 4,
      "outputs": []
    },
    {
      "cell_type": "code",
      "metadata": {
        "colab": {
          "base_uri": "https://localhost:8080/",
          "height": 198
        },
        "id": "rQtLpsA1YVLI",
        "outputId": "69a21780-1769-4708-dbf6-8f5857c650c3"
      },
      "source": [
        "# Visualizar os últimos 5 registros para entendimento da estrutura do arquivo\n",
        "metricas.tail()"
      ],
      "execution_count": 5,
      "outputs": [
        {
          "output_type": "execute_result",
          "data": {
            "text/html": [
              "<div>\n",
              "<style scoped>\n",
              "    .dataframe tbody tr th:only-of-type {\n",
              "        vertical-align: middle;\n",
              "    }\n",
              "\n",
              "    .dataframe tbody tr th {\n",
              "        vertical-align: top;\n",
              "    }\n",
              "\n",
              "    .dataframe thead th {\n",
              "        text-align: right;\n",
              "    }\n",
              "</style>\n",
              "<table border=\"1\" class=\"dataframe\">\n",
              "  <thead>\n",
              "    <tr style=\"text-align: right;\">\n",
              "      <th></th>\n",
              "      <th>chat_number</th>\n",
              "      <th>text_sent_by_user</th>\n",
              "    </tr>\n",
              "  </thead>\n",
              "  <tbody>\n",
              "    <tr>\n",
              "      <th>279</th>\n",
              "      <td>35</td>\n",
              "      <td>homem de ferro</td>\n",
              "    </tr>\n",
              "    <tr>\n",
              "      <th>280</th>\n",
              "      <td>35</td>\n",
              "      <td>Quero conhecer sua história</td>\n",
              "    </tr>\n",
              "    <tr>\n",
              "      <th>281</th>\n",
              "      <td>35</td>\n",
              "      <td>Quero uma foto dele</td>\n",
              "    </tr>\n",
              "    <tr>\n",
              "      <th>282</th>\n",
              "      <td>35</td>\n",
              "      <td>tchau</td>\n",
              "    </tr>\n",
              "    <tr>\n",
              "      <th>283</th>\n",
              "      <td>35</td>\n",
              "      <td>5-Excelente</td>\n",
              "    </tr>\n",
              "  </tbody>\n",
              "</table>\n",
              "</div>"
            ],
            "text/plain": [
              "     chat_number            text_sent_by_user\n",
              "279           35               homem de ferro\n",
              "280           35  Quero conhecer sua história\n",
              "281           35          Quero uma foto dele\n",
              "282           35                        tchau\n",
              "283           35                  5-Excelente"
            ]
          },
          "metadata": {
            "tags": []
          },
          "execution_count": 5
        }
      ]
    },
    {
      "cell_type": "code",
      "metadata": {
        "id": "_9QfMsanYks8"
      },
      "source": [
        "# Lista de total de palavras por mensagem enviada por usuário\n",
        "total_words = []\n",
        "# Lista com todas as palavras enviadas em todas as mensagens de todos usuários\n",
        "all_words = []\n",
        "\n",
        "# Popular as listas acima\n",
        "for text in metricas.text_sent_by_user:\n",
        "    total_words.append(len(text.split()))\n",
        "\n",
        "    words = text.split()\n",
        "    for word in words:\n",
        "        all_words.append(word.lower())\n",
        "\n",
        "# Adicionar coluna com total de palavras da mensagem enviada pelo usuário\n",
        "metricas['total_words'] = total_words"
      ],
      "execution_count": 6,
      "outputs": []
    },
    {
      "cell_type": "code",
      "metadata": {
        "colab": {
          "base_uri": "https://localhost:8080/",
          "height": 198
        },
        "id": "RYBTi3ZzZBfH",
        "outputId": "50b5614c-87f1-49df-908a-a25645851dd5"
      },
      "source": [
        "metricas.tail()"
      ],
      "execution_count": 7,
      "outputs": [
        {
          "output_type": "execute_result",
          "data": {
            "text/html": [
              "<div>\n",
              "<style scoped>\n",
              "    .dataframe tbody tr th:only-of-type {\n",
              "        vertical-align: middle;\n",
              "    }\n",
              "\n",
              "    .dataframe tbody tr th {\n",
              "        vertical-align: top;\n",
              "    }\n",
              "\n",
              "    .dataframe thead th {\n",
              "        text-align: right;\n",
              "    }\n",
              "</style>\n",
              "<table border=\"1\" class=\"dataframe\">\n",
              "  <thead>\n",
              "    <tr style=\"text-align: right;\">\n",
              "      <th></th>\n",
              "      <th>chat_number</th>\n",
              "      <th>text_sent_by_user</th>\n",
              "      <th>total_words</th>\n",
              "    </tr>\n",
              "  </thead>\n",
              "  <tbody>\n",
              "    <tr>\n",
              "      <th>279</th>\n",
              "      <td>35</td>\n",
              "      <td>homem de ferro</td>\n",
              "      <td>3</td>\n",
              "    </tr>\n",
              "    <tr>\n",
              "      <th>280</th>\n",
              "      <td>35</td>\n",
              "      <td>Quero conhecer sua história</td>\n",
              "      <td>4</td>\n",
              "    </tr>\n",
              "    <tr>\n",
              "      <th>281</th>\n",
              "      <td>35</td>\n",
              "      <td>Quero uma foto dele</td>\n",
              "      <td>4</td>\n",
              "    </tr>\n",
              "    <tr>\n",
              "      <th>282</th>\n",
              "      <td>35</td>\n",
              "      <td>tchau</td>\n",
              "      <td>1</td>\n",
              "    </tr>\n",
              "    <tr>\n",
              "      <th>283</th>\n",
              "      <td>35</td>\n",
              "      <td>5-Excelente</td>\n",
              "      <td>1</td>\n",
              "    </tr>\n",
              "  </tbody>\n",
              "</table>\n",
              "</div>"
            ],
            "text/plain": [
              "     chat_number            text_sent_by_user  total_words\n",
              "279           35               homem de ferro            3\n",
              "280           35  Quero conhecer sua história            4\n",
              "281           35          Quero uma foto dele            4\n",
              "282           35                        tchau            1\n",
              "283           35                  5-Excelente            1"
            ]
          },
          "metadata": {
            "tags": []
          },
          "execution_count": 7
        }
      ]
    },
    {
      "cell_type": "code",
      "metadata": {
        "colab": {
          "base_uri": "https://localhost:8080/"
        },
        "id": "I0bOCfbJWGIf",
        "outputId": "7c26ba0d-3cb3-42c7-98ca-5e6dcdf661db"
      },
      "source": [
        "# Total de chats\n",
        "total_chats = len(metricas.chat_number.unique())\n",
        "print(total_chats)"
      ],
      "execution_count": 8,
      "outputs": [
        {
          "output_type": "stream",
          "text": [
            "35\n"
          ],
          "name": "stdout"
        }
      ]
    },
    {
      "cell_type": "code",
      "metadata": {
        "colab": {
          "base_uri": "https://localhost:8080/"
        },
        "id": "FBJASSKGWXhL",
        "outputId": "c7ed3f95-0de7-473a-984e-41517c46b464"
      },
      "source": [
        "# Total de mensagens enviadas\n",
        "total_texts_sent = len(metricas.chat_number)\n",
        "print(total_texts_sent)"
      ],
      "execution_count": 9,
      "outputs": [
        {
          "output_type": "stream",
          "text": [
            "284\n"
          ],
          "name": "stdout"
        }
      ]
    },
    {
      "cell_type": "code",
      "metadata": {
        "colab": {
          "base_uri": "https://localhost:8080/"
        },
        "id": "86WxQSOrbOHJ",
        "outputId": "76d1c79e-2f21-454b-c7d2-421b6488ad62"
      },
      "source": [
        "# Total de palavras enviadas\n",
        "total_words_sent = len(all_words)\n",
        "print(total_words_sent)"
      ],
      "execution_count": 10,
      "outputs": [
        {
          "output_type": "stream",
          "text": [
            "601\n"
          ],
          "name": "stdout"
        }
      ]
    },
    {
      "cell_type": "code",
      "metadata": {
        "colab": {
          "base_uri": "https://localhost:8080/"
        },
        "id": "ghfWF_T3WtSD",
        "outputId": "21c35388-65d8-4538-98d6-de4213557a64"
      },
      "source": [
        "# Média de mensagens enviadas por chat\n",
        "average_texts_sent = total_texts_sent / total_chats\n",
        "print(average_texts_sent)"
      ],
      "execution_count": 11,
      "outputs": [
        {
          "output_type": "stream",
          "text": [
            "8.114285714285714\n"
          ],
          "name": "stdout"
        }
      ]
    },
    {
      "cell_type": "code",
      "metadata": {
        "colab": {
          "base_uri": "https://localhost:8080/"
        },
        "id": "u6t2lakobdJM",
        "outputId": "cc570255-7445-4806-bac0-b7288292cef8"
      },
      "source": [
        "# Média de palavras enviadas por mensagem\n",
        "average_words_sent_per_text = total_words_sent / total_texts_sent\n",
        "print(average_words_sent_per_text)"
      ],
      "execution_count": 12,
      "outputs": [
        {
          "output_type": "stream",
          "text": [
            "2.1161971830985915\n"
          ],
          "name": "stdout"
        }
      ]
    },
    {
      "cell_type": "code",
      "metadata": {
        "colab": {
          "base_uri": "https://localhost:8080/"
        },
        "id": "6myNHWdNb6VG",
        "outputId": "b35330db-cc27-4f0f-d59f-6b8901b37b9d"
      },
      "source": [
        "# Média de palavras enviadas por chat\n",
        "average_words_sent_per_chat = total_words_sent / total_chats\n",
        "print(average_words_sent_per_chat)"
      ],
      "execution_count": 13,
      "outputs": [
        {
          "output_type": "stream",
          "text": [
            "17.17142857142857\n"
          ],
          "name": "stdout"
        }
      ]
    },
    {
      "cell_type": "code",
      "metadata": {
        "colab": {
          "base_uri": "https://localhost:8080/",
          "height": 198
        },
        "id": "Xe5OR0gicMhj",
        "outputId": "355e82b5-f613-416b-c13c-bc43d44dc998"
      },
      "source": [
        "# Geração de um novo dataframe com base no total de mensagens envidas por usuário por chat\n",
        "total_texts_sent_per_chat = metricas.groupby('chat_number')['text_sent_by_user'].nunique()\n",
        "\n",
        "list_total_texts_sent_per_chat = []\n",
        "\n",
        "chat = 1;\n",
        "for total in total_texts_sent_per_chat:\n",
        "    list_total_texts_sent_per_chat.append({'chat_number': chat, 'total_texts_sent_by_user': total})\n",
        "    chat = chat + 1\n",
        "\n",
        "df_list_total_texts_sent_per_chat = pd.DataFrame(list_total_texts_sent_per_chat, columns = ['chat_number', 'total_texts_sent_by_user'])\n",
        "\n",
        "df_list_total_texts_sent_per_chat.tail()"
      ],
      "execution_count": 14,
      "outputs": [
        {
          "output_type": "execute_result",
          "data": {
            "text/html": [
              "<div>\n",
              "<style scoped>\n",
              "    .dataframe tbody tr th:only-of-type {\n",
              "        vertical-align: middle;\n",
              "    }\n",
              "\n",
              "    .dataframe tbody tr th {\n",
              "        vertical-align: top;\n",
              "    }\n",
              "\n",
              "    .dataframe thead th {\n",
              "        text-align: right;\n",
              "    }\n",
              "</style>\n",
              "<table border=\"1\" class=\"dataframe\">\n",
              "  <thead>\n",
              "    <tr style=\"text-align: right;\">\n",
              "      <th></th>\n",
              "      <th>chat_number</th>\n",
              "      <th>total_texts_sent_by_user</th>\n",
              "    </tr>\n",
              "  </thead>\n",
              "  <tbody>\n",
              "    <tr>\n",
              "      <th>30</th>\n",
              "      <td>31</td>\n",
              "      <td>9</td>\n",
              "    </tr>\n",
              "    <tr>\n",
              "      <th>31</th>\n",
              "      <td>32</td>\n",
              "      <td>8</td>\n",
              "    </tr>\n",
              "    <tr>\n",
              "      <th>32</th>\n",
              "      <td>33</td>\n",
              "      <td>8</td>\n",
              "    </tr>\n",
              "    <tr>\n",
              "      <th>33</th>\n",
              "      <td>34</td>\n",
              "      <td>9</td>\n",
              "    </tr>\n",
              "    <tr>\n",
              "      <th>34</th>\n",
              "      <td>35</td>\n",
              "      <td>8</td>\n",
              "    </tr>\n",
              "  </tbody>\n",
              "</table>\n",
              "</div>"
            ],
            "text/plain": [
              "    chat_number  total_texts_sent_by_user\n",
              "30           31                         9\n",
              "31           32                         8\n",
              "32           33                         8\n",
              "33           34                         9\n",
              "34           35                         8"
            ]
          },
          "metadata": {
            "tags": []
          },
          "execution_count": 14
        }
      ]
    },
    {
      "cell_type": "code",
      "metadata": {
        "colab": {
          "base_uri": "https://localhost:8080/",
          "height": 295
        },
        "id": "jSaG7mTT5WGw",
        "outputId": "fdac406e-0ea2-4f76-e654-415febc3305d"
      },
      "source": [
        "plt.hist(df_list_total_texts_sent_per_chat.total_texts_sent_by_user)\n",
        "plt.title('Relatório de mensagens enviadas por usuários por chat')\n",
        "plt.xlabel('Qtde Mensagens')\n",
        "plt.ylabel('Qtde Chats')\n",
        "plt.show()"
      ],
      "execution_count": 15,
      "outputs": [
        {
          "output_type": "display_data",
          "data": {
            "image/png": "[encoded data removed]",
            "text/plain": [
              "<Figure size 432x288 with 1 Axes>"
            ]
          },
          "metadata": {
            "tags": [],
            "needs_background": "light"
          }
        }
      ]
    },
    {
      "cell_type": "code",
      "metadata": {
        "id": "ulIm74VBwT0e"
      },
      "source": [
        "# Gerar top 10 palavras mais frequentes\n",
        "counts = dict(Counter(all_words).most_common(10))\n",
        "labels, values = zip(*counts.items())\n",
        "indSort = np.argsort(values)[::-1]\n",
        "labels = np.array(labels)[indSort]\n",
        "values = np.array(values)[indSort]\n",
        "indexes = np.arange(len(labels))"
      ],
      "execution_count": 16,
      "outputs": []
    },
    {
      "cell_type": "code",
      "metadata": {
        "colab": {
          "base_uri": "https://localhost:8080/",
          "height": 295
        },
        "id": "1gQY_chSsKQW",
        "outputId": "96250e0a-a833-48dd-b62c-038de8dce6cf"
      },
      "source": [
        "plt.bar(indexes, values)\n",
        "plt.xticks(indexes + 0.35, labels)\n",
        "plt.title('Relatório de top 10 palavras mais enviadas')\n",
        "plt.xlabel('Palavra')\n",
        "plt.ylabel('Frequência')\n",
        "plt.show()"
      ],
      "execution_count": 17,
      "outputs": [
        {
          "output_type": "display_data",
          "data": {
            "image/png": "[encoded data removed]",
            "text/plain": [
              "<Figure size 432x288 with 1 Axes>"
            ]
          },
          "metadata": {
            "tags": [],
            "needs_background": "light"
          }
        }
      ]
    },
    {
      "cell_type": "code",
      "metadata": {
        "colab": {
          "base_uri": "https://localhost:8080/"
        },
        "id": "8OVMxTEVqTsD",
        "outputId": "3f3ebbc6-b6b1-48cd-c4a0-f596e60fe178"
      },
      "source": [
        "# Ler CSV com votações\n",
        "votes = pd.read_csv('votes.csv', sep = ',', decimal = '.')\n",
        "\n",
        "# Votação de satisfação\n",
        "votes.value_counts()"
      ],
      "execution_count": 24,
      "outputs": [
        {
          "output_type": "execute_result",
          "data": {
            "text/plain": [
              "vote       \n",
              "3-Regular      12\n",
              "4-Bom          10\n",
              "5-Excelente     5\n",
              "2-Ruim          4\n",
              "1-Pessimo       4\n",
              "dtype: int64"
            ]
          },
          "metadata": {
            "tags": []
          },
          "execution_count": 24
        }
      ]
    }
  ]
}